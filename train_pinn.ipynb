{
  "nbformat": 4,
  "nbformat_minor": 0,
  "metadata": {
    "colab": {
      "provenance": [],
      "gpuType": "T4",
      "include_colab_link": true
    },
    "kernelspec": {
      "name": "python3",
      "display_name": "Python 3"
    },
    "language_info": {
      "name": "python"
    },
    "accelerator": "GPU"
  },
  "cells": [
    {
      "cell_type": "markdown",
      "metadata": {
        "id": "view-in-github",
        "colab_type": "text"
      },
      "source": [
        "<a href=\"https://colab.research.google.com/github/JacobDowns/glamacles_test/blob/main/train_pinn.ipynb\" target=\"_parent\"><img src=\"https://colab.research.google.com/assets/colab-badge.svg\" alt=\"Open In Colab\"/></a>"
      ]
    },
    {
      "cell_type": "code",
      "source": [
        "%pip install nvidia-modulus nvidia-modulus-sym\n",
        "! git clone https://github.com/JacobDowns/glamacles_test"
      ],
      "metadata": {
        "colab": {
          "base_uri": "https://localhost:8080/"
        },
        "id": "KZ8SLnaJtMMO",
        "outputId": "cd72103f-7760-4d86-97e6-70be873cf0f8"
      },
      "execution_count": 11,
      "outputs": [
        {
          "output_type": "stream",
          "name": "stdout",
          "text": [
            "Requirement already satisfied: nvidia-modulus in /usr/local/lib/python3.10/dist-packages (0.6.0)\n",
            "Requirement already satisfied: nvidia-modulus-sym in /usr/local/lib/python3.10/dist-packages (1.5.0)\n",
            "Requirement already satisfied: torch>=2.0.0 in /usr/local/lib/python3.10/dist-packages (from nvidia-modulus) (2.3.0+cu121)\n",
            "Requirement already satisfied: numpy<1.25,>=1.22.4 in /usr/local/lib/python3.10/dist-packages (from nvidia-modulus) (1.24.4)\n",
            "Requirement already satisfied: xarray>=2023.1.0 in /usr/local/lib/python3.10/dist-packages (from nvidia-modulus) (2023.7.0)\n",
            "Requirement already satisfied: zarr>=2.14.2 in /usr/local/lib/python3.10/dist-packages (from nvidia-modulus) (2.18.2)\n",
            "Requirement already satisfied: fsspec>=2023.1.0 in /usr/local/lib/python3.10/dist-packages (from nvidia-modulus) (2024.5.0)\n",
            "Requirement already satisfied: s3fs>=2023.5.0 in /usr/local/lib/python3.10/dist-packages (from nvidia-modulus) (2024.5.0)\n",
            "Requirement already satisfied: nvidia-dali-cuda110>=1.16.0 in /usr/local/lib/python3.10/dist-packages (from nvidia-modulus) (1.37.1)\n",
            "Requirement already satisfied: setuptools>=67.6.0 in /usr/local/lib/python3.10/dist-packages (from nvidia-modulus) (67.7.2)\n",
            "Requirement already satisfied: certifi>=2023.7.22 in /usr/local/lib/python3.10/dist-packages (from nvidia-modulus) (2024.2.2)\n",
            "Requirement already satisfied: pytz>=2023.3 in /usr/local/lib/python3.10/dist-packages (from nvidia-modulus) (2023.4)\n",
            "Requirement already satisfied: treelib>=1.2.5 in /usr/local/lib/python3.10/dist-packages (from nvidia-modulus) (1.7.0)\n",
            "Requirement already satisfied: tqdm>=4.60.0 in /usr/local/lib/python3.10/dist-packages (from nvidia-modulus) (4.66.4)\n",
            "Requirement already satisfied: nvtx>=0.2.8 in /usr/local/lib/python3.10/dist-packages (from nvidia-modulus) (0.2.10)\n",
            "Requirement already satisfied: onnx>=1.14.0 in /usr/local/lib/python3.10/dist-packages (from nvidia-modulus) (1.16.1)\n",
            "Requirement already satisfied: hydra-core>=1.2.0 in /usr/local/lib/python3.10/dist-packages (from nvidia-modulus-sym) (1.3.2)\n",
            "Requirement already satisfied: termcolor>=2.1.1 in /usr/local/lib/python3.10/dist-packages (from nvidia-modulus-sym) (2.4.0)\n",
            "Requirement already satisfied: chaospy>=4.3.7 in /usr/local/lib/python3.10/dist-packages (from nvidia-modulus-sym) (4.3.15)\n",
            "Collecting Cython==0.29.28 (from nvidia-modulus-sym)\n",
            "  Using cached Cython-0.29.28-cp310-cp310-manylinux_2_17_x86_64.manylinux2014_x86_64.manylinux_2_24_x86_64.whl (1.9 MB)\n",
            "Requirement already satisfied: numpy-stl==2.16.3 in /usr/local/lib/python3.10/dist-packages (from nvidia-modulus-sym) (2.16.3)\n",
            "Requirement already satisfied: opencv-python==4.9.0.80 in /usr/local/lib/python3.10/dist-packages (from nvidia-modulus-sym) (4.9.0.80)\n",
            "Requirement already satisfied: scikit-learn>=1.2.0 in /usr/local/lib/python3.10/dist-packages (from nvidia-modulus-sym) (1.2.2)\n",
            "Requirement already satisfied: symengine>=0.10.0 in /usr/local/lib/python3.10/dist-packages (from nvidia-modulus-sym) (0.11.0)\n",
            "Requirement already satisfied: sympy==1.12 in /usr/local/lib/python3.10/dist-packages (from nvidia-modulus-sym) (1.12)\n",
            "Requirement already satisfied: timm==0.5.4 in /usr/local/lib/python3.10/dist-packages (from nvidia-modulus-sym) (0.5.4)\n",
            "Requirement already satisfied: torch-optimizer==0.3.0 in /usr/local/lib/python3.10/dist-packages (from nvidia-modulus-sym) (0.3.0)\n",
            "Requirement already satisfied: transforms3d==0.3.1 in /usr/local/lib/python3.10/dist-packages (from nvidia-modulus-sym) (0.3.1)\n",
            "Requirement already satisfied: typing==3.7.4.3 in /usr/local/lib/python3.10/dist-packages (from nvidia-modulus-sym) (3.7.4.3)\n",
            "Requirement already satisfied: pillow==10.2.0 in /usr/local/lib/python3.10/dist-packages (from nvidia-modulus-sym) (10.2.0)\n",
            "Requirement already satisfied: notebook==6.4.12 in /usr/local/lib/python3.10/dist-packages (from nvidia-modulus-sym) (6.4.12)\n",
            "Requirement already satisfied: mistune==2.0.3 in /usr/local/lib/python3.10/dist-packages (from nvidia-modulus-sym) (2.0.3)\n",
            "Requirement already satisfied: pint==0.19.2 in /usr/local/lib/python3.10/dist-packages (from nvidia-modulus-sym) (0.19.2)\n",
            "Requirement already satisfied: tensorboard>=2.8.0 in /usr/local/lib/python3.10/dist-packages (from nvidia-modulus-sym) (2.15.2)\n",
            "Requirement already satisfied: vtk>=9.2.6 in /usr/local/lib/python3.10/dist-packages (from nvidia-modulus-sym) (9.3.0)\n",
            "Requirement already satisfied: h5py>=3.7.0 in /usr/local/lib/python3.10/dist-packages (from nvidia-modulus-sym) (3.11.0)\n",
            "Requirement already satisfied: jinja2 in /usr/local/lib/python3.10/dist-packages (from notebook==6.4.12->nvidia-modulus-sym) (3.1.4)\n",
            "Requirement already satisfied: tornado>=6.1 in /usr/local/lib/python3.10/dist-packages (from notebook==6.4.12->nvidia-modulus-sym) (6.3.3)\n",
            "Requirement already satisfied: pyzmq>=17 in /usr/local/lib/python3.10/dist-packages (from notebook==6.4.12->nvidia-modulus-sym) (24.0.1)\n",
            "Requirement already satisfied: argon2-cffi in /usr/local/lib/python3.10/dist-packages (from notebook==6.4.12->nvidia-modulus-sym) (23.1.0)\n",
            "Requirement already satisfied: traitlets>=4.2.1 in /usr/local/lib/python3.10/dist-packages (from notebook==6.4.12->nvidia-modulus-sym) (5.7.1)\n",
            "Requirement already satisfied: jupyter-core>=4.6.1 in /usr/local/lib/python3.10/dist-packages (from notebook==6.4.12->nvidia-modulus-sym) (5.7.2)\n",
            "Requirement already satisfied: jupyter-client>=5.3.4 in /usr/local/lib/python3.10/dist-packages (from notebook==6.4.12->nvidia-modulus-sym) (6.1.12)\n",
            "Requirement already satisfied: ipython-genutils in /usr/local/lib/python3.10/dist-packages (from notebook==6.4.12->nvidia-modulus-sym) (0.2.0)\n",
            "Requirement already satisfied: nbformat in /usr/local/lib/python3.10/dist-packages (from notebook==6.4.12->nvidia-modulus-sym) (5.10.4)\n",
            "Requirement already satisfied: nbconvert>=5 in /usr/local/lib/python3.10/dist-packages (from notebook==6.4.12->nvidia-modulus-sym) (7.16.4)\n",
            "Requirement already satisfied: nest-asyncio>=1.5 in /usr/local/lib/python3.10/dist-packages (from notebook==6.4.12->nvidia-modulus-sym) (1.6.0)\n",
            "Requirement already satisfied: ipykernel in /usr/local/lib/python3.10/dist-packages (from notebook==6.4.12->nvidia-modulus-sym) (5.5.6)\n",
            "Requirement already satisfied: Send2Trash>=1.8.0 in /usr/local/lib/python3.10/dist-packages (from notebook==6.4.12->nvidia-modulus-sym) (1.8.3)\n",
            "Requirement already satisfied: terminado>=0.8.3 in /usr/local/lib/python3.10/dist-packages (from notebook==6.4.12->nvidia-modulus-sym) (0.18.1)\n",
            "Requirement already satisfied: prometheus-client in /usr/local/lib/python3.10/dist-packages (from notebook==6.4.12->nvidia-modulus-sym) (0.20.0)\n",
            "Requirement already satisfied: python-utils>=1.6.2 in /usr/local/lib/python3.10/dist-packages (from numpy-stl==2.16.3->nvidia-modulus-sym) (3.8.2)\n",
            "Requirement already satisfied: mpmath>=0.19 in /usr/local/lib/python3.10/dist-packages (from sympy==1.12->nvidia-modulus-sym) (1.3.0)\n",
            "Requirement already satisfied: torchvision in /usr/local/lib/python3.10/dist-packages (from timm==0.5.4->nvidia-modulus-sym) (0.18.0+cu121)\n",
            "Requirement already satisfied: pytorch-ranger>=0.1.1 in /usr/local/lib/python3.10/dist-packages (from torch-optimizer==0.3.0->nvidia-modulus-sym) (0.1.1)\n",
            "Requirement already satisfied: numpoly>=1.2.12 in /usr/local/lib/python3.10/dist-packages (from chaospy>=4.3.7->nvidia-modulus-sym) (1.2.12)\n",
            "Requirement already satisfied: scipy in /usr/local/lib/python3.10/dist-packages (from chaospy>=4.3.7->nvidia-modulus-sym) (1.11.4)\n",
            "Requirement already satisfied: importlib-metadata in /usr/local/lib/python3.10/dist-packages (from chaospy>=4.3.7->nvidia-modulus-sym) (7.1.0)\n",
            "Requirement already satisfied: mpi4py>=3.1.1 in /usr/local/lib/python3.10/dist-packages (from h5py>=3.7.0->nvidia-modulus-sym) (4.0.0.dev0)\n",
            "Requirement already satisfied: omegaconf<2.4,>=2.2 in /usr/local/lib/python3.10/dist-packages (from hydra-core>=1.2.0->nvidia-modulus-sym) (2.3.0)\n",
            "Requirement already satisfied: antlr4-python3-runtime==4.9.* in /usr/local/lib/python3.10/dist-packages (from hydra-core>=1.2.0->nvidia-modulus-sym) (4.9.3)\n",
            "Requirement already satisfied: packaging in /usr/local/lib/python3.10/dist-packages (from hydra-core>=1.2.0->nvidia-modulus-sym) (24.0)\n",
            "Requirement already satisfied: astunparse>=1.6.0 in /usr/local/lib/python3.10/dist-packages (from nvidia-dali-cuda110>=1.16.0->nvidia-modulus) (1.6.3)\n",
            "Requirement already satisfied: gast>=0.3.3 in /usr/local/lib/python3.10/dist-packages (from nvidia-dali-cuda110>=1.16.0->nvidia-modulus) (0.5.4)\n",
            "Requirement already satisfied: dm-tree in /usr/local/lib/python3.10/dist-packages (from nvidia-dali-cuda110>=1.16.0->nvidia-modulus) (0.1.8)\n",
            "Requirement already satisfied: nvidia-nvimgcodec-cu11>=0.2.0 in /usr/local/lib/python3.10/dist-packages (from nvidia-dali-cuda110>=1.16.0->nvidia-modulus) (0.2.0.7)\n",
            "Requirement already satisfied: protobuf>=3.20.2 in /usr/local/lib/python3.10/dist-packages (from onnx>=1.14.0->nvidia-modulus) (3.20.3)\n",
            "Requirement already satisfied: aiobotocore<3.0.0,>=2.5.4 in /usr/local/lib/python3.10/dist-packages (from s3fs>=2023.5.0->nvidia-modulus) (2.13.0)\n",
            "Requirement already satisfied: aiohttp!=4.0.0a0,!=4.0.0a1 in /usr/local/lib/python3.10/dist-packages (from s3fs>=2023.5.0->nvidia-modulus) (3.9.5)\n",
            "Requirement already satisfied: joblib>=1.1.1 in /usr/local/lib/python3.10/dist-packages (from scikit-learn>=1.2.0->nvidia-modulus-sym) (1.4.2)\n",
            "Requirement already satisfied: threadpoolctl>=2.0.0 in /usr/local/lib/python3.10/dist-packages (from scikit-learn>=1.2.0->nvidia-modulus-sym) (3.5.0)\n",
            "Requirement already satisfied: absl-py>=0.4 in /usr/local/lib/python3.10/dist-packages (from tensorboard>=2.8.0->nvidia-modulus-sym) (1.4.0)\n",
            "Requirement already satisfied: grpcio>=1.48.2 in /usr/local/lib/python3.10/dist-packages (from tensorboard>=2.8.0->nvidia-modulus-sym) (1.64.0)\n",
            "Requirement already satisfied: google-auth<3,>=1.6.3 in /usr/local/lib/python3.10/dist-packages (from tensorboard>=2.8.0->nvidia-modulus-sym) (2.27.0)\n",
            "Requirement already satisfied: google-auth-oauthlib<2,>=0.5 in /usr/local/lib/python3.10/dist-packages (from tensorboard>=2.8.0->nvidia-modulus-sym) (1.2.0)\n",
            "Requirement already satisfied: markdown>=2.6.8 in /usr/local/lib/python3.10/dist-packages (from tensorboard>=2.8.0->nvidia-modulus-sym) (3.6)\n",
            "Requirement already satisfied: requests<3,>=2.21.0 in /usr/local/lib/python3.10/dist-packages (from tensorboard>=2.8.0->nvidia-modulus-sym) (2.31.0)\n",
            "Requirement already satisfied: six>1.9 in /usr/local/lib/python3.10/dist-packages (from tensorboard>=2.8.0->nvidia-modulus-sym) (1.16.0)\n",
            "Requirement already satisfied: tensorboard-data-server<0.8.0,>=0.7.0 in /usr/local/lib/python3.10/dist-packages (from tensorboard>=2.8.0->nvidia-modulus-sym) (0.7.2)\n",
            "Requirement already satisfied: werkzeug>=1.0.1 in /usr/local/lib/python3.10/dist-packages (from tensorboard>=2.8.0->nvidia-modulus-sym) (3.0.3)\n",
            "Requirement already satisfied: filelock in /usr/local/lib/python3.10/dist-packages (from torch>=2.0.0->nvidia-modulus) (3.14.0)\n",
            "Requirement already satisfied: typing-extensions>=4.8.0 in /usr/local/lib/python3.10/dist-packages (from torch>=2.0.0->nvidia-modulus) (4.11.0)\n",
            "Requirement already satisfied: networkx in /usr/local/lib/python3.10/dist-packages (from torch>=2.0.0->nvidia-modulus) (3.3)\n",
            "Requirement already satisfied: nvidia-cuda-nvrtc-cu12==12.1.105 in /usr/local/lib/python3.10/dist-packages (from torch>=2.0.0->nvidia-modulus) (12.1.105)\n",
            "Requirement already satisfied: nvidia-cuda-runtime-cu12==12.1.105 in /usr/local/lib/python3.10/dist-packages (from torch>=2.0.0->nvidia-modulus) (12.1.105)\n",
            "Requirement already satisfied: nvidia-cuda-cupti-cu12==12.1.105 in /usr/local/lib/python3.10/dist-packages (from torch>=2.0.0->nvidia-modulus) (12.1.105)\n",
            "Requirement already satisfied: nvidia-cudnn-cu12==8.9.2.26 in /usr/local/lib/python3.10/dist-packages (from torch>=2.0.0->nvidia-modulus) (8.9.2.26)\n",
            "Requirement already satisfied: nvidia-cublas-cu12==12.1.3.1 in /usr/local/lib/python3.10/dist-packages (from torch>=2.0.0->nvidia-modulus) (12.1.3.1)\n",
            "Requirement already satisfied: nvidia-cufft-cu12==11.0.2.54 in /usr/local/lib/python3.10/dist-packages (from torch>=2.0.0->nvidia-modulus) (11.0.2.54)\n",
            "Requirement already satisfied: nvidia-curand-cu12==10.3.2.106 in /usr/local/lib/python3.10/dist-packages (from torch>=2.0.0->nvidia-modulus) (10.3.2.106)\n",
            "Requirement already satisfied: nvidia-cusolver-cu12==11.4.5.107 in /usr/local/lib/python3.10/dist-packages (from torch>=2.0.0->nvidia-modulus) (11.4.5.107)\n",
            "Requirement already satisfied: nvidia-cusparse-cu12==12.1.0.106 in /usr/local/lib/python3.10/dist-packages (from torch>=2.0.0->nvidia-modulus) (12.1.0.106)\n",
            "Requirement already satisfied: nvidia-nccl-cu12==2.20.5 in /usr/local/lib/python3.10/dist-packages (from torch>=2.0.0->nvidia-modulus) (2.20.5)\n",
            "Requirement already satisfied: nvidia-nvtx-cu12==12.1.105 in /usr/local/lib/python3.10/dist-packages (from torch>=2.0.0->nvidia-modulus) (12.1.105)\n",
            "Requirement already satisfied: triton==2.3.0 in /usr/local/lib/python3.10/dist-packages (from torch>=2.0.0->nvidia-modulus) (2.3.0)\n",
            "Requirement already satisfied: nvidia-nvjitlink-cu12 in /usr/local/lib/python3.10/dist-packages (from nvidia-cusolver-cu12==11.4.5.107->torch>=2.0.0->nvidia-modulus) (12.5.40)\n",
            "Requirement already satisfied: matplotlib>=2.0.0 in /usr/local/lib/python3.10/dist-packages (from vtk>=9.2.6->nvidia-modulus-sym) (3.7.1)\n",
            "Requirement already satisfied: pandas>=1.4 in /usr/local/lib/python3.10/dist-packages (from xarray>=2023.1.0->nvidia-modulus) (2.0.3)\n",
            "Requirement already satisfied: asciitree in /usr/local/lib/python3.10/dist-packages (from zarr>=2.14.2->nvidia-modulus) (0.3.3)\n",
            "Requirement already satisfied: numcodecs>=0.10.0 in /usr/local/lib/python3.10/dist-packages (from zarr>=2.14.2->nvidia-modulus) (0.12.1)\n",
            "Requirement already satisfied: fasteners in /usr/local/lib/python3.10/dist-packages (from zarr>=2.14.2->nvidia-modulus) (0.19)\n",
            "Requirement already satisfied: botocore<1.34.107,>=1.34.70 in /usr/local/lib/python3.10/dist-packages (from aiobotocore<3.0.0,>=2.5.4->s3fs>=2023.5.0->nvidia-modulus) (1.34.106)\n",
            "Requirement already satisfied: wrapt<2.0.0,>=1.10.10 in /usr/local/lib/python3.10/dist-packages (from aiobotocore<3.0.0,>=2.5.4->s3fs>=2023.5.0->nvidia-modulus) (1.14.1)\n",
            "Requirement already satisfied: aioitertools<1.0.0,>=0.5.1 in /usr/local/lib/python3.10/dist-packages (from aiobotocore<3.0.0,>=2.5.4->s3fs>=2023.5.0->nvidia-modulus) (0.11.0)\n",
            "Requirement already satisfied: aiosignal>=1.1.2 in /usr/local/lib/python3.10/dist-packages (from aiohttp!=4.0.0a0,!=4.0.0a1->s3fs>=2023.5.0->nvidia-modulus) (1.3.1)\n",
            "Requirement already satisfied: attrs>=17.3.0 in /usr/local/lib/python3.10/dist-packages (from aiohttp!=4.0.0a0,!=4.0.0a1->s3fs>=2023.5.0->nvidia-modulus) (23.2.0)\n",
            "Requirement already satisfied: frozenlist>=1.1.1 in /usr/local/lib/python3.10/dist-packages (from aiohttp!=4.0.0a0,!=4.0.0a1->s3fs>=2023.5.0->nvidia-modulus) (1.4.1)\n",
            "Requirement already satisfied: multidict<7.0,>=4.5 in /usr/local/lib/python3.10/dist-packages (from aiohttp!=4.0.0a0,!=4.0.0a1->s3fs>=2023.5.0->nvidia-modulus) (6.0.5)\n",
            "Requirement already satisfied: yarl<2.0,>=1.0 in /usr/local/lib/python3.10/dist-packages (from aiohttp!=4.0.0a0,!=4.0.0a1->s3fs>=2023.5.0->nvidia-modulus) (1.9.4)\n",
            "Requirement already satisfied: async-timeout<5.0,>=4.0 in /usr/local/lib/python3.10/dist-packages (from aiohttp!=4.0.0a0,!=4.0.0a1->s3fs>=2023.5.0->nvidia-modulus) (4.0.3)\n",
            "Requirement already satisfied: wheel<1.0,>=0.23.0 in /usr/local/lib/python3.10/dist-packages (from astunparse>=1.6.0->nvidia-dali-cuda110>=1.16.0->nvidia-modulus) (0.43.0)\n",
            "Requirement already satisfied: cachetools<6.0,>=2.0.0 in /usr/local/lib/python3.10/dist-packages (from google-auth<3,>=1.6.3->tensorboard>=2.8.0->nvidia-modulus-sym) (5.3.3)\n",
            "Requirement already satisfied: pyasn1-modules>=0.2.1 in /usr/local/lib/python3.10/dist-packages (from google-auth<3,>=1.6.3->tensorboard>=2.8.0->nvidia-modulus-sym) (0.4.0)\n",
            "Requirement already satisfied: rsa<5,>=3.1.4 in /usr/local/lib/python3.10/dist-packages (from google-auth<3,>=1.6.3->tensorboard>=2.8.0->nvidia-modulus-sym) (4.9)\n",
            "Requirement already satisfied: requests-oauthlib>=0.7.0 in /usr/local/lib/python3.10/dist-packages (from google-auth-oauthlib<2,>=0.5->tensorboard>=2.8.0->nvidia-modulus-sym) (1.3.1)\n",
            "Requirement already satisfied: python-dateutil>=2.1 in /usr/local/lib/python3.10/dist-packages (from jupyter-client>=5.3.4->notebook==6.4.12->nvidia-modulus-sym) (2.8.2)\n",
            "Requirement already satisfied: platformdirs>=2.5 in /usr/local/lib/python3.10/dist-packages (from jupyter-core>=4.6.1->notebook==6.4.12->nvidia-modulus-sym) (4.2.2)\n",
            "Requirement already satisfied: contourpy>=1.0.1 in /usr/local/lib/python3.10/dist-packages (from matplotlib>=2.0.0->vtk>=9.2.6->nvidia-modulus-sym) (1.2.1)\n",
            "Requirement already satisfied: cycler>=0.10 in /usr/local/lib/python3.10/dist-packages (from matplotlib>=2.0.0->vtk>=9.2.6->nvidia-modulus-sym) (0.12.1)\n",
            "Requirement already satisfied: fonttools>=4.22.0 in /usr/local/lib/python3.10/dist-packages (from matplotlib>=2.0.0->vtk>=9.2.6->nvidia-modulus-sym) (4.51.0)\n",
            "Requirement already satisfied: kiwisolver>=1.0.1 in /usr/local/lib/python3.10/dist-packages (from matplotlib>=2.0.0->vtk>=9.2.6->nvidia-modulus-sym) (1.4.5)\n",
            "Requirement already satisfied: pyparsing>=2.3.1 in /usr/local/lib/python3.10/dist-packages (from matplotlib>=2.0.0->vtk>=9.2.6->nvidia-modulus-sym) (3.1.2)\n",
            "Requirement already satisfied: beautifulsoup4 in /usr/local/lib/python3.10/dist-packages (from nbconvert>=5->notebook==6.4.12->nvidia-modulus-sym) (4.12.3)\n",
            "Requirement already satisfied: bleach!=5.0.0 in /usr/local/lib/python3.10/dist-packages (from nbconvert>=5->notebook==6.4.12->nvidia-modulus-sym) (6.1.0)\n",
            "Requirement already satisfied: defusedxml in /usr/local/lib/python3.10/dist-packages (from nbconvert>=5->notebook==6.4.12->nvidia-modulus-sym) (0.7.1)\n",
            "Requirement already satisfied: jupyterlab-pygments in /usr/local/lib/python3.10/dist-packages (from nbconvert>=5->notebook==6.4.12->nvidia-modulus-sym) (0.3.0)\n",
            "Requirement already satisfied: markupsafe>=2.0 in /usr/local/lib/python3.10/dist-packages (from nbconvert>=5->notebook==6.4.12->nvidia-modulus-sym) (2.1.5)\n",
            "Requirement already satisfied: nbclient>=0.5.0 in /usr/local/lib/python3.10/dist-packages (from nbconvert>=5->notebook==6.4.12->nvidia-modulus-sym) (0.10.0)\n",
            "Requirement already satisfied: pandocfilters>=1.4.1 in /usr/local/lib/python3.10/dist-packages (from nbconvert>=5->notebook==6.4.12->nvidia-modulus-sym) (1.5.1)\n",
            "Requirement already satisfied: pygments>=2.4.1 in /usr/local/lib/python3.10/dist-packages (from nbconvert>=5->notebook==6.4.12->nvidia-modulus-sym) (2.16.1)\n",
            "Requirement already satisfied: tinycss2 in /usr/local/lib/python3.10/dist-packages (from nbconvert>=5->notebook==6.4.12->nvidia-modulus-sym) (1.3.0)\n",
            "Requirement already satisfied: fastjsonschema>=2.15 in /usr/local/lib/python3.10/dist-packages (from nbformat->notebook==6.4.12->nvidia-modulus-sym) (2.19.1)\n",
            "Requirement already satisfied: jsonschema>=2.6 in /usr/local/lib/python3.10/dist-packages (from nbformat->notebook==6.4.12->nvidia-modulus-sym) (4.19.2)\n",
            "Requirement already satisfied: PyYAML>=5.1.0 in /usr/local/lib/python3.10/dist-packages (from omegaconf<2.4,>=2.2->hydra-core>=1.2.0->nvidia-modulus-sym) (6.0.1)\n",
            "Requirement already satisfied: tzdata>=2022.1 in /usr/local/lib/python3.10/dist-packages (from pandas>=1.4->xarray>=2023.1.0->nvidia-modulus) (2024.1)\n",
            "Requirement already satisfied: charset-normalizer<4,>=2 in /usr/local/lib/python3.10/dist-packages (from requests<3,>=2.21.0->tensorboard>=2.8.0->nvidia-modulus-sym) (3.3.2)\n",
            "Requirement already satisfied: idna<4,>=2.5 in /usr/local/lib/python3.10/dist-packages (from requests<3,>=2.21.0->tensorboard>=2.8.0->nvidia-modulus-sym) (3.7)\n",
            "Requirement already satisfied: urllib3<3,>=1.21.1 in /usr/local/lib/python3.10/dist-packages (from requests<3,>=2.21.0->tensorboard>=2.8.0->nvidia-modulus-sym) (2.0.7)\n",
            "Requirement already satisfied: ptyprocess in /usr/local/lib/python3.10/dist-packages (from terminado>=0.8.3->notebook==6.4.12->nvidia-modulus-sym) (0.7.0)\n",
            "Requirement already satisfied: argon2-cffi-bindings in /usr/local/lib/python3.10/dist-packages (from argon2-cffi->notebook==6.4.12->nvidia-modulus-sym) (21.2.0)\n",
            "Requirement already satisfied: zipp>=0.5 in /usr/local/lib/python3.10/dist-packages (from importlib-metadata->chaospy>=4.3.7->nvidia-modulus-sym) (3.18.2)\n",
            "Requirement already satisfied: ipython>=5.0.0 in /usr/local/lib/python3.10/dist-packages (from ipykernel->notebook==6.4.12->nvidia-modulus-sym) (7.34.0)\n",
            "Requirement already satisfied: webencodings in /usr/local/lib/python3.10/dist-packages (from bleach!=5.0.0->nbconvert>=5->notebook==6.4.12->nvidia-modulus-sym) (0.5.1)\n",
            "Requirement already satisfied: jmespath<2.0.0,>=0.7.1 in /usr/local/lib/python3.10/dist-packages (from botocore<1.34.107,>=1.34.70->aiobotocore<3.0.0,>=2.5.4->s3fs>=2023.5.0->nvidia-modulus) (1.0.1)\n",
            "Requirement already satisfied: jedi>=0.16 in /usr/local/lib/python3.10/dist-packages (from ipython>=5.0.0->ipykernel->notebook==6.4.12->nvidia-modulus-sym) (0.19.1)\n",
            "Requirement already satisfied: decorator in /usr/local/lib/python3.10/dist-packages (from ipython>=5.0.0->ipykernel->notebook==6.4.12->nvidia-modulus-sym) (4.4.2)\n",
            "Requirement already satisfied: pickleshare in /usr/local/lib/python3.10/dist-packages (from ipython>=5.0.0->ipykernel->notebook==6.4.12->nvidia-modulus-sym) (0.7.5)\n",
            "Requirement already satisfied: prompt-toolkit!=3.0.0,!=3.0.1,<3.1.0,>=2.0.0 in /usr/local/lib/python3.10/dist-packages (from ipython>=5.0.0->ipykernel->notebook==6.4.12->nvidia-modulus-sym) (3.0.43)\n",
            "Requirement already satisfied: backcall in /usr/local/lib/python3.10/dist-packages (from ipython>=5.0.0->ipykernel->notebook==6.4.12->nvidia-modulus-sym) (0.2.0)\n",
            "Requirement already satisfied: matplotlib-inline in /usr/local/lib/python3.10/dist-packages (from ipython>=5.0.0->ipykernel->notebook==6.4.12->nvidia-modulus-sym) (0.1.7)\n",
            "Requirement already satisfied: pexpect>4.3 in /usr/local/lib/python3.10/dist-packages (from ipython>=5.0.0->ipykernel->notebook==6.4.12->nvidia-modulus-sym) (4.9.0)\n",
            "Requirement already satisfied: jsonschema-specifications>=2023.03.6 in /usr/local/lib/python3.10/dist-packages (from jsonschema>=2.6->nbformat->notebook==6.4.12->nvidia-modulus-sym) (2023.12.1)\n",
            "Requirement already satisfied: referencing>=0.28.4 in /usr/local/lib/python3.10/dist-packages (from jsonschema>=2.6->nbformat->notebook==6.4.12->nvidia-modulus-sym) (0.35.1)\n",
            "Requirement already satisfied: rpds-py>=0.7.1 in /usr/local/lib/python3.10/dist-packages (from jsonschema>=2.6->nbformat->notebook==6.4.12->nvidia-modulus-sym) (0.18.1)\n",
            "Requirement already satisfied: pyasn1<0.7.0,>=0.4.6 in /usr/local/lib/python3.10/dist-packages (from pyasn1-modules>=0.2.1->google-auth<3,>=1.6.3->tensorboard>=2.8.0->nvidia-modulus-sym) (0.6.0)\n",
            "Requirement already satisfied: oauthlib>=3.0.0 in /usr/local/lib/python3.10/dist-packages (from requests-oauthlib>=0.7.0->google-auth-oauthlib<2,>=0.5->tensorboard>=2.8.0->nvidia-modulus-sym) (3.2.2)\n",
            "Requirement already satisfied: cffi>=1.0.1 in /usr/local/lib/python3.10/dist-packages (from argon2-cffi-bindings->argon2-cffi->notebook==6.4.12->nvidia-modulus-sym) (1.16.0)\n",
            "Requirement already satisfied: soupsieve>1.2 in /usr/local/lib/python3.10/dist-packages (from beautifulsoup4->nbconvert>=5->notebook==6.4.12->nvidia-modulus-sym) (2.5)\n",
            "Requirement already satisfied: pycparser in /usr/local/lib/python3.10/dist-packages (from cffi>=1.0.1->argon2-cffi-bindings->argon2-cffi->notebook==6.4.12->nvidia-modulus-sym) (2.22)\n",
            "Requirement already satisfied: parso<0.9.0,>=0.8.3 in /usr/local/lib/python3.10/dist-packages (from jedi>=0.16->ipython>=5.0.0->ipykernel->notebook==6.4.12->nvidia-modulus-sym) (0.8.4)\n",
            "Requirement already satisfied: wcwidth in /usr/local/lib/python3.10/dist-packages (from prompt-toolkit!=3.0.0,!=3.0.1,<3.1.0,>=2.0.0->ipython>=5.0.0->ipykernel->notebook==6.4.12->nvidia-modulus-sym) (0.2.13)\n",
            "Installing collected packages: Cython\n",
            "  Attempting uninstall: Cython\n",
            "    Found existing installation: Cython 0.29.37\n",
            "    Uninstalling Cython-0.29.37:\n",
            "      Successfully uninstalled Cython-0.29.37\n",
            "Successfully installed Cython-0.29.28\n",
            "Cloning into 'glamacles_test'...\n",
            "remote: Enumerating objects: 40, done.\u001b[K\n",
            "remote: Counting objects: 100% (40/40), done.\u001b[K\n",
            "remote: Compressing objects: 100% (34/34), done.\u001b[K\n",
            "remote: Total 40 (delta 16), reused 16 (delta 4), pack-reused 0\u001b[K\n",
            "Receiving objects: 100% (40/40), 46.23 KiB | 3.08 MiB/s, done.\n",
            "Resolving deltas: 100% (16/16), done.\n"
          ]
        }
      ]
    },
    {
      "cell_type": "code",
      "execution_count": 12,
      "metadata": {
        "id": "o7wd9o-HLisY",
        "collapsed": true,
        "colab": {
          "base_uri": "https://localhost:8080/"
        },
        "outputId": "5dffc2ee-56e1-4b54-ccc2-69b562411272"
      },
      "outputs": [
        {
          "output_type": "stream",
          "name": "stdout",
          "text": [
            "Drive already mounted at /content/drive; to attempt to forcibly remount, call drive.mount(\"/content/drive\", force_remount=True).\n"
          ]
        }
      ],
      "source": [
        "import os\n",
        "arch = os.getenv(\"ARGS\", \"real\")\n",
        "\n",
        "try:\n",
        "    import google.colab  # noqa: F401\n",
        "except ImportError:\n",
        "    import firedrake as fd\n",
        "else:\n",
        "    try:\n",
        "        import firedrake as fd\n",
        "    except ImportError:\n",
        "        if arch != \"complex\":\n",
        "            !wget \"https://fem-on-colab.github.io/releases/firedrake-install-real.sh\" -O \"/tmp/firedrake-install.sh\" && bash \"/tmp/firedrake-install.sh\"\n",
        "        else:\n",
        "            !wget \"https://fem-on-colab.github.io/releases/firedrake-install-complex.sh\" -O \"/tmp/firedrake-install.sh\" && bash \"/tmp/firedrake-install.sh\"\n",
        "        import firedrake as fd\n",
        "\n",
        "from google.colab import drive\n",
        "drive.mount('/content/drive')"
      ]
    },
    {
      "cell_type": "code",
      "source": [
        "cd glamacles_test"
      ],
      "metadata": {
        "colab": {
          "base_uri": "https://localhost:8080/"
        },
        "id": "SBp3FjHckKJ6",
        "outputId": "e0ce1293-5685-4d1a-8897-c42d2d881e63"
      },
      "execution_count": 13,
      "outputs": [
        {
          "output_type": "stream",
          "name": "stdout",
          "text": [
            "/content/glamacles_test/glamacles_test\n"
          ]
        }
      ]
    },
    {
      "cell_type": "code",
      "source": [
        "from model import SpecFO\n",
        "import numpy as np\n",
        "import matplotlib.pyplot as plt\n",
        "data = np.load('/content/drive/MyDrive/glamacles/data.npy')\n",
        "model = SpecFO()"
      ],
      "metadata": {
        "colab": {
          "base_uri": "https://localhost:8080/"
        },
        "id": "pKynimjYRK2b",
        "outputId": "19c42e1d-b5dc-484e-8432-9e44f46198c0"
      },
      "execution_count": 14,
      "outputs": [
        {
          "output_type": "stream",
          "name": "stderr",
          "text": [
            "/usr/local/lib/python3.10/dist-packages/firedrake/interpolation.py:385: FutureWarning: The use of `interpolate` to perform the numerical interpolation is deprecated.\n",
            "This feature will be removed very shortly.\n",
            "\n",
            "Instead, import `interpolate` from the `firedrake.__future__` module to update\n",
            "the interpolation's behaviour to return the symbolic `ufl.Interpolate` object associated\n",
            "with this interpolation.\n",
            "\n",
            "You can then assemble the resulting object to get the interpolated quantity\n",
            "of interest. For example,\n",
            "\n",
            "```\n",
            "from firedrake.__future__ import interpolate\n",
            "...\n",
            "\n",
            "assemble(interpolate(expr, V))\n",
            "```\n",
            "\n",
            "Alternatively, you can also perform other symbolic operations on the interpolation operator, such as taking\n",
            "the derivative, and then assemble the resulting form.\n",
            "\n",
            "  warnings.warn(\"\"\"The use of `interpolate` to perform the numerical interpolation is deprecated.\n"
          ]
        }
      ]
    },
    {
      "cell_type": "code",
      "source": [
        "import torch\n",
        "from torch.utils.data import TensorDataset, DataLoader\n",
        "\n",
        "# Create input features\n",
        "B = data[:,0,:,:]\n",
        "H = data[:,1,:,:]\n",
        "S = B+H\n",
        "S_x = np.gradient(S, axis=2)\n",
        "S_y = np.gradient(S, axis=1)\n",
        "X = np.stack([H, S_x, S_y], axis=1)\n",
        "\n",
        "# Output features\n",
        "Y = data[:,2:,:,:]\n",
        "\n",
        "# Normalization\n",
        "X /= X.std(axis=(0,2,3))[np.newaxis,:,np.newaxis,np.newaxis]\n",
        "Y /= Y.std(axis=(0,2,3))[np.newaxis,:,np.newaxis,np.newaxis]\n",
        "\n",
        "# Create datsets\n",
        "N_train = 2000\n",
        "X = torch.tensor(X, dtype=torch.float32)\n",
        "Y = torch.tensor(Y, dtype=torch.float32)\n",
        "\n",
        "train_dataset = TensorDataset(X[0:N_train], Y[0:N_train])\n",
        "validation_dataset = TensorDataset(X[N_train:], Y[N_train:])\n",
        "\n",
        "# Data loaders\n",
        "train_loader = DataLoader(train_dataset, batch_size=1, shuffle=True)\n",
        "validation_loader = DataLoader(validation_dataset, batch_size=1, shuffle=True)"
      ],
      "metadata": {
        "id": "96y-eTGwhFU_"
      },
      "execution_count": 15,
      "outputs": []
    },
    {
      "cell_type": "code",
      "source": [
        "from modulus.models.fno import FNO\n",
        "\n",
        "# Fourier neural operator model\n",
        "fno = FNO(\n",
        "    in_channels=3,\n",
        "    out_channels=4,\n",
        "    decoder_layers=1,\n",
        "    decoder_layer_size=32,\n",
        "    dimension=2,\n",
        "    latent_channels=32,\n",
        "    num_fno_layers=5,\n",
        "    num_fno_modes=16,\n",
        "    padding=9,\n",
        ").cuda()\n",
        "\n",
        "optimizer = torch.optim.Adam(fno.parameters(), lr=1e-4)\n",
        "\n",
        "# Number of epochs\n",
        "epochs = 100\n",
        "from torch.utils.tensorboard import SummaryWriter\n",
        "log_dir = '/content/drive/MyDrive/glamacles/logs/'\n",
        "writer = SummaryWriter(log_dir=log_dir)\n",
        "\n",
        "for epoch in range(epochs):\n",
        "    avg_loss = 0.\n",
        "    num = 0\n",
        "\n",
        "    fno.train()\n",
        "    for i, (x,y) in enumerate(train_loader):\n",
        "        x = x.cuda()\n",
        "        y = y.cuda()\n",
        "        optimizer.zero_grad()\n",
        "        y_fno = fno(x)\n",
        "        loss = torch.mean(torch.sqrt((y - y_fno)**2 + 1e-10))\n",
        "        loss.backward()\n",
        "        optimizer.step()\n",
        "        avg_loss += loss.item()\n",
        "        num += 1\n",
        "\n",
        "    print('avg_loss', avg_loss / num)\n",
        "    writer.add_scalar('Loss/train', avg_loss / num, epoch)\n",
        "\n",
        "    # Validation\n",
        "    if epoch % 20 == 0:\n",
        "        with torch.no_grad():\n",
        "\n",
        "            torch.save(fno.state_dict(), f'/content/drive/MyDrive/glamacles/checkpoint_{epoch}.pt')\n",
        "\n",
        "            validation_loss = 0.\n",
        "            for i, (x,y) in enumerate(validation_loader):\n",
        "                x = x.cuda()\n",
        "                y = y.cuda()\n",
        "                y_fno = fno(x)\n",
        "                loss = torch.mean(torch.sqrt((y - y_fno)**2 + 1e-10))\n",
        "                validation_loss += loss.item()\n",
        "                num += 1\n",
        "            print('validation_loss', validation_loss / num)\n",
        "            writer.add_scalar('Loss/validation', validation_loss / num, epoch)"
      ],
      "metadata": {
        "colab": {
          "base_uri": "https://localhost:8080/"
        },
        "id": "SO0NkmR4wVwh",
        "outputId": "301e6112-533a-44ef-9e6e-046e1156524d"
      },
      "execution_count": null,
      "outputs": [
        {
          "output_type": "stream",
          "name": "stdout",
          "text": [
            "avg_loss 0.11760538557803375\n",
            "validation_loss 0.00934889696855098\n",
            "avg_loss 0.04837181305838749\n",
            "avg_loss 0.04375357240985613\n",
            "avg_loss 0.04027165420312667\n",
            "avg_loss 0.0378934186209226\n",
            "avg_loss 0.03538053126144223\n"
          ]
        }
      ]
    },
    {
      "cell_type": "code",
      "source": [
        "ls"
      ],
      "metadata": {
        "id": "g3DDl_78kl3h"
      },
      "execution_count": null,
      "outputs": []
    },
    {
      "cell_type": "code",
      "source": [],
      "metadata": {
        "id": "oZG-aOmgqyfz"
      },
      "execution_count": null,
      "outputs": []
    }
  ]
}