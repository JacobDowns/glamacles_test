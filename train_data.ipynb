{
  "nbformat": 4,
  "nbformat_minor": 0,
  "metadata": {
    "colab": {
      "provenance": [],
      "gpuType": "T4",
      "include_colab_link": true
    },
    "kernelspec": {
      "name": "python3",
      "display_name": "Python 3"
    },
    "language_info": {
      "name": "python"
    },
    "accelerator": "GPU"
  },
  "cells": [
    {
      "cell_type": "markdown",
      "metadata": {
        "id": "view-in-github",
        "colab_type": "text"
      },
      "source": [
        "<a href=\"https://colab.research.google.com/github/JacobDowns/glamacles_test/blob/main/train_data.ipynb\" target=\"_parent\"><img src=\"https://colab.research.google.com/assets/colab-badge.svg\" alt=\"Open In Colab\"/></a>"
      ]
    },
    {
      "cell_type": "code",
      "source": [
        "%pip install nvidia-modulus nvidia-modulus-sym\n",
        "! git clone https://github.com/JacobDowns/glamacles_test\n",
        "! cd glamacles_test"
      ],
      "metadata": {
        "colab": {
          "base_uri": "https://localhost:8080/"
        },
        "id": "KZ8SLnaJtMMO",
        "outputId": "02603e46-d9b3-4189-d602-4ee6eadce367"
      },
      "execution_count": null,
      "outputs": [
        {
          "output_type": "stream",
          "name": "stdout",
          "text": [
            "Collecting nvidia-modulus\n",
            "  Using cached nvidia_modulus-0.6.0-py3-none-any.whl (320 kB)\n",
            "Collecting nvidia-modulus-sym\n",
            "  Using cached nvidia_modulus.sym-1.5.0-py3-none-any.whl (291 kB)\n",
            "Requirement already satisfied: torch>=2.0.0 in /usr/local/lib/python3.10/dist-packages (from nvidia-modulus) (2.3.0+cu121)\n",
            "Requirement already satisfied: numpy<1.25,>=1.22.4 in /usr/local/lib/python3.10/dist-packages (from nvidia-modulus) (1.24.4)\n",
            "Requirement already satisfied: xarray>=2023.1.0 in /usr/local/lib/python3.10/dist-packages (from nvidia-modulus) (2023.7.0)\n",
            "Requirement already satisfied: zarr>=2.14.2 in /usr/local/lib/python3.10/dist-packages (from nvidia-modulus) (2.18.1)\n",
            "Requirement already satisfied: fsspec>=2023.1.0 in /usr/local/lib/python3.10/dist-packages (from nvidia-modulus) (2024.5.0)\n",
            "Collecting s3fs>=2023.5.0 (from nvidia-modulus)\n",
            "  Using cached s3fs-2024.5.0-py3-none-any.whl (29 kB)\n",
            "Requirement already satisfied: nvidia-dali-cuda110>=1.16.0 in /usr/local/lib/python3.10/dist-packages (from nvidia-modulus) (1.37.1)\n",
            "Requirement already satisfied: setuptools>=67.6.0 in /usr/local/lib/python3.10/dist-packages (from nvidia-modulus) (67.7.2)\n",
            "Requirement already satisfied: certifi>=2023.7.22 in /usr/local/lib/python3.10/dist-packages (from nvidia-modulus) (2024.2.2)\n",
            "Requirement already satisfied: pytz>=2023.3 in /usr/local/lib/python3.10/dist-packages (from nvidia-modulus) (2023.4)\n",
            "Requirement already satisfied: treelib>=1.2.5 in /usr/local/lib/python3.10/dist-packages (from nvidia-modulus) (1.7.0)\n",
            "Requirement already satisfied: tqdm>=4.60.0 in /usr/local/lib/python3.10/dist-packages (from nvidia-modulus) (4.66.4)\n",
            "Requirement already satisfied: nvtx>=0.2.8 in /usr/local/lib/python3.10/dist-packages (from nvidia-modulus) (0.2.10)\n",
            "Requirement already satisfied: onnx>=1.14.0 in /usr/local/lib/python3.10/dist-packages (from nvidia-modulus) (1.16.0)\n",
            "Requirement already satisfied: hydra-core>=1.2.0 in /usr/local/lib/python3.10/dist-packages (from nvidia-modulus-sym) (1.3.2)\n",
            "Requirement already satisfied: termcolor>=2.1.1 in /usr/local/lib/python3.10/dist-packages (from nvidia-modulus-sym) (2.4.0)\n",
            "Requirement already satisfied: chaospy>=4.3.7 in /usr/local/lib/python3.10/dist-packages (from nvidia-modulus-sym) (4.3.15)\n",
            "Requirement already satisfied: Cython==0.29.28 in /usr/local/lib/python3.10/dist-packages (from nvidia-modulus-sym) (0.29.28)\n",
            "Requirement already satisfied: numpy-stl==2.16.3 in /usr/local/lib/python3.10/dist-packages (from nvidia-modulus-sym) (2.16.3)\n",
            "Requirement already satisfied: opencv-python==4.9.0.80 in /usr/local/lib/python3.10/dist-packages (from nvidia-modulus-sym) (4.9.0.80)\n",
            "Requirement already satisfied: scikit-learn>=1.2.0 in /usr/local/lib/python3.10/dist-packages (from nvidia-modulus-sym) (1.2.2)\n",
            "Requirement already satisfied: symengine>=0.10.0 in /usr/local/lib/python3.10/dist-packages (from nvidia-modulus-sym) (0.11.0)\n",
            "Requirement already satisfied: sympy==1.12 in /usr/local/lib/python3.10/dist-packages (from nvidia-modulus-sym) (1.12)\n",
            "Collecting timm==0.5.4 (from nvidia-modulus-sym)\n",
            "  Using cached timm-0.5.4-py3-none-any.whl (431 kB)\n",
            "Collecting torch-optimizer==0.3.0 (from nvidia-modulus-sym)\n",
            "  Using cached torch_optimizer-0.3.0-py3-none-any.whl (61 kB)\n",
            "Requirement already satisfied: transforms3d==0.3.1 in /usr/local/lib/python3.10/dist-packages (from nvidia-modulus-sym) (0.3.1)\n",
            "Requirement already satisfied: typing==3.7.4.3 in /usr/local/lib/python3.10/dist-packages (from nvidia-modulus-sym) (3.7.4.3)\n",
            "Requirement already satisfied: pillow==10.2.0 in /usr/local/lib/python3.10/dist-packages (from nvidia-modulus-sym) (10.2.0)\n",
            "Collecting notebook==6.4.12 (from nvidia-modulus-sym)\n",
            "  Using cached notebook-6.4.12-py3-none-any.whl (9.9 MB)\n",
            "Requirement already satisfied: mistune==2.0.3 in /usr/local/lib/python3.10/dist-packages (from nvidia-modulus-sym) (2.0.3)\n",
            "Requirement already satisfied: pint==0.19.2 in /usr/local/lib/python3.10/dist-packages (from nvidia-modulus-sym) (0.19.2)\n",
            "Requirement already satisfied: tensorboard>=2.8.0 in /usr/local/lib/python3.10/dist-packages (from nvidia-modulus-sym) (2.15.2)\n",
            "Requirement already satisfied: vtk>=9.2.6 in /usr/local/lib/python3.10/dist-packages (from nvidia-modulus-sym) (9.3.0)\n",
            "Requirement already satisfied: h5py>=3.7.0 in /usr/local/lib/python3.10/dist-packages (from nvidia-modulus-sym) (3.9.0)\n",
            "Requirement already satisfied: jinja2 in /usr/local/lib/python3.10/dist-packages (from notebook==6.4.12->nvidia-modulus-sym) (3.1.4)\n",
            "Requirement already satisfied: tornado>=6.1 in /usr/local/lib/python3.10/dist-packages (from notebook==6.4.12->nvidia-modulus-sym) (6.3.3)\n",
            "Requirement already satisfied: pyzmq>=17 in /usr/local/lib/python3.10/dist-packages (from notebook==6.4.12->nvidia-modulus-sym) (24.0.1)\n",
            "Requirement already satisfied: argon2-cffi in /usr/local/lib/python3.10/dist-packages (from notebook==6.4.12->nvidia-modulus-sym) (23.1.0)\n",
            "Requirement already satisfied: traitlets>=4.2.1 in /usr/local/lib/python3.10/dist-packages (from notebook==6.4.12->nvidia-modulus-sym) (5.7.1)\n",
            "Requirement already satisfied: jupyter-core>=4.6.1 in /usr/local/lib/python3.10/dist-packages (from notebook==6.4.12->nvidia-modulus-sym) (5.7.2)\n",
            "Requirement already satisfied: jupyter-client>=5.3.4 in /usr/local/lib/python3.10/dist-packages (from notebook==6.4.12->nvidia-modulus-sym) (6.1.12)\n",
            "Requirement already satisfied: ipython-genutils in /usr/local/lib/python3.10/dist-packages (from notebook==6.4.12->nvidia-modulus-sym) (0.2.0)\n",
            "Requirement already satisfied: nbformat in /usr/local/lib/python3.10/dist-packages (from notebook==6.4.12->nvidia-modulus-sym) (5.10.4)\n",
            "Requirement already satisfied: nbconvert>=5 in /usr/local/lib/python3.10/dist-packages (from notebook==6.4.12->nvidia-modulus-sym) (6.5.4)\n",
            "Requirement already satisfied: nest-asyncio>=1.5 in /usr/local/lib/python3.10/dist-packages (from notebook==6.4.12->nvidia-modulus-sym) (1.6.0)\n",
            "Requirement already satisfied: ipykernel in /usr/local/lib/python3.10/dist-packages (from notebook==6.4.12->nvidia-modulus-sym) (5.5.6)\n",
            "Requirement already satisfied: Send2Trash>=1.8.0 in /usr/local/lib/python3.10/dist-packages (from notebook==6.4.12->nvidia-modulus-sym) (1.8.3)\n",
            "Requirement already satisfied: terminado>=0.8.3 in /usr/local/lib/python3.10/dist-packages (from notebook==6.4.12->nvidia-modulus-sym) (0.18.1)\n",
            "Requirement already satisfied: prometheus-client in /usr/local/lib/python3.10/dist-packages (from notebook==6.4.12->nvidia-modulus-sym) (0.20.0)\n",
            "Requirement already satisfied: python-utils>=1.6.2 in /usr/local/lib/python3.10/dist-packages (from numpy-stl==2.16.3->nvidia-modulus-sym) (3.8.2)\n",
            "Requirement already satisfied: mpmath>=0.19 in /usr/local/lib/python3.10/dist-packages (from sympy==1.12->nvidia-modulus-sym) (1.3.0)\n",
            "Requirement already satisfied: torchvision in /usr/local/lib/python3.10/dist-packages (from timm==0.5.4->nvidia-modulus-sym) (0.18.0+cu121)\n",
            "Collecting pytorch-ranger>=0.1.1 (from torch-optimizer==0.3.0->nvidia-modulus-sym)\n",
            "  Using cached pytorch_ranger-0.1.1-py3-none-any.whl (14 kB)\n",
            "Requirement already satisfied: numpoly>=1.2.12 in /usr/local/lib/python3.10/dist-packages (from chaospy>=4.3.7->nvidia-modulus-sym) (1.2.12)\n",
            "Requirement already satisfied: scipy in /usr/local/lib/python3.10/dist-packages (from chaospy>=4.3.7->nvidia-modulus-sym) (1.11.4)\n",
            "Requirement already satisfied: importlib-metadata in /usr/local/lib/python3.10/dist-packages (from chaospy>=4.3.7->nvidia-modulus-sym) (7.1.0)\n",
            "Requirement already satisfied: omegaconf<2.4,>=2.2 in /usr/local/lib/python3.10/dist-packages (from hydra-core>=1.2.0->nvidia-modulus-sym) (2.3.0)\n",
            "Requirement already satisfied: antlr4-python3-runtime==4.9.* in /usr/local/lib/python3.10/dist-packages (from hydra-core>=1.2.0->nvidia-modulus-sym) (4.9.3)\n",
            "Requirement already satisfied: packaging in /usr/local/lib/python3.10/dist-packages (from hydra-core>=1.2.0->nvidia-modulus-sym) (24.0)\n",
            "Requirement already satisfied: astunparse>=1.6.0 in /usr/local/lib/python3.10/dist-packages (from nvidia-dali-cuda110>=1.16.0->nvidia-modulus) (1.6.3)\n",
            "Requirement already satisfied: gast>=0.3.3 in /usr/local/lib/python3.10/dist-packages (from nvidia-dali-cuda110>=1.16.0->nvidia-modulus) (0.5.4)\n",
            "Requirement already satisfied: dm-tree in /usr/local/lib/python3.10/dist-packages (from nvidia-dali-cuda110>=1.16.0->nvidia-modulus) (0.1.8)\n",
            "Requirement already satisfied: nvidia-nvimgcodec-cu11>=0.2.0 in /usr/local/lib/python3.10/dist-packages (from nvidia-dali-cuda110>=1.16.0->nvidia-modulus) (0.2.0.7)\n",
            "Requirement already satisfied: protobuf>=3.20.2 in /usr/local/lib/python3.10/dist-packages (from onnx>=1.14.0->nvidia-modulus) (3.20.3)\n",
            "Requirement already satisfied: aiobotocore<3.0.0,>=2.5.4 in /usr/local/lib/python3.10/dist-packages (from s3fs>=2023.5.0->nvidia-modulus) (2.13.0)\n",
            "Requirement already satisfied: aiohttp!=4.0.0a0,!=4.0.0a1 in /usr/local/lib/python3.10/dist-packages (from s3fs>=2023.5.0->nvidia-modulus) (3.9.5)\n",
            "Requirement already satisfied: joblib>=1.1.1 in /usr/local/lib/python3.10/dist-packages (from scikit-learn>=1.2.0->nvidia-modulus-sym) (1.4.2)\n",
            "Requirement already satisfied: threadpoolctl>=2.0.0 in /usr/local/lib/python3.10/dist-packages (from scikit-learn>=1.2.0->nvidia-modulus-sym) (3.5.0)\n",
            "Requirement already satisfied: absl-py>=0.4 in /usr/local/lib/python3.10/dist-packages (from tensorboard>=2.8.0->nvidia-modulus-sym) (1.4.0)\n",
            "Requirement already satisfied: grpcio>=1.48.2 in /usr/local/lib/python3.10/dist-packages (from tensorboard>=2.8.0->nvidia-modulus-sym) (1.63.0)\n",
            "Requirement already satisfied: google-auth<3,>=1.6.3 in /usr/local/lib/python3.10/dist-packages (from tensorboard>=2.8.0->nvidia-modulus-sym) (2.27.0)\n",
            "Requirement already satisfied: google-auth-oauthlib<2,>=0.5 in /usr/local/lib/python3.10/dist-packages (from tensorboard>=2.8.0->nvidia-modulus-sym) (1.2.0)\n",
            "Requirement already satisfied: markdown>=2.6.8 in /usr/local/lib/python3.10/dist-packages (from tensorboard>=2.8.0->nvidia-modulus-sym) (3.6)\n",
            "Requirement already satisfied: requests<3,>=2.21.0 in /usr/local/lib/python3.10/dist-packages (from tensorboard>=2.8.0->nvidia-modulus-sym) (2.31.0)\n",
            "Requirement already satisfied: six>1.9 in /usr/local/lib/python3.10/dist-packages (from tensorboard>=2.8.0->nvidia-modulus-sym) (1.16.0)\n",
            "Requirement already satisfied: tensorboard-data-server<0.8.0,>=0.7.0 in /usr/local/lib/python3.10/dist-packages (from tensorboard>=2.8.0->nvidia-modulus-sym) (0.7.2)\n",
            "Requirement already satisfied: werkzeug>=1.0.1 in /usr/local/lib/python3.10/dist-packages (from tensorboard>=2.8.0->nvidia-modulus-sym) (3.0.3)\n",
            "Requirement already satisfied: filelock in /usr/local/lib/python3.10/dist-packages (from torch>=2.0.0->nvidia-modulus) (3.14.0)\n",
            "Requirement already satisfied: typing-extensions>=4.8.0 in /usr/local/lib/python3.10/dist-packages (from torch>=2.0.0->nvidia-modulus) (4.11.0)\n",
            "Requirement already satisfied: networkx in /usr/local/lib/python3.10/dist-packages (from torch>=2.0.0->nvidia-modulus) (3.3)\n",
            "Requirement already satisfied: nvidia-cuda-nvrtc-cu12==12.1.105 in /usr/local/lib/python3.10/dist-packages (from torch>=2.0.0->nvidia-modulus) (12.1.105)\n",
            "Requirement already satisfied: nvidia-cuda-runtime-cu12==12.1.105 in /usr/local/lib/python3.10/dist-packages (from torch>=2.0.0->nvidia-modulus) (12.1.105)\n",
            "Requirement already satisfied: nvidia-cuda-cupti-cu12==12.1.105 in /usr/local/lib/python3.10/dist-packages (from torch>=2.0.0->nvidia-modulus) (12.1.105)\n",
            "Requirement already satisfied: nvidia-cudnn-cu12==8.9.2.26 in /usr/local/lib/python3.10/dist-packages (from torch>=2.0.0->nvidia-modulus) (8.9.2.26)\n",
            "Requirement already satisfied: nvidia-cublas-cu12==12.1.3.1 in /usr/local/lib/python3.10/dist-packages (from torch>=2.0.0->nvidia-modulus) (12.1.3.1)\n",
            "Requirement already satisfied: nvidia-cufft-cu12==11.0.2.54 in /usr/local/lib/python3.10/dist-packages (from torch>=2.0.0->nvidia-modulus) (11.0.2.54)\n",
            "Requirement already satisfied: nvidia-curand-cu12==10.3.2.106 in /usr/local/lib/python3.10/dist-packages (from torch>=2.0.0->nvidia-modulus) (10.3.2.106)\n",
            "Requirement already satisfied: nvidia-cusolver-cu12==11.4.5.107 in /usr/local/lib/python3.10/dist-packages (from torch>=2.0.0->nvidia-modulus) (11.4.5.107)\n",
            "Requirement already satisfied: nvidia-cusparse-cu12==12.1.0.106 in /usr/local/lib/python3.10/dist-packages (from torch>=2.0.0->nvidia-modulus) (12.1.0.106)\n",
            "Requirement already satisfied: nvidia-nccl-cu12==2.20.5 in /usr/local/lib/python3.10/dist-packages (from torch>=2.0.0->nvidia-modulus) (2.20.5)\n",
            "Requirement already satisfied: nvidia-nvtx-cu12==12.1.105 in /usr/local/lib/python3.10/dist-packages (from torch>=2.0.0->nvidia-modulus) (12.1.105)\n",
            "Requirement already satisfied: triton==2.3.0 in /usr/local/lib/python3.10/dist-packages (from torch>=2.0.0->nvidia-modulus) (2.3.0)\n",
            "Requirement already satisfied: nvidia-nvjitlink-cu12 in /usr/local/lib/python3.10/dist-packages (from nvidia-cusolver-cu12==11.4.5.107->torch>=2.0.0->nvidia-modulus) (12.5.40)\n",
            "Requirement already satisfied: matplotlib>=2.0.0 in /usr/local/lib/python3.10/dist-packages (from vtk>=9.2.6->nvidia-modulus-sym) (3.7.1)\n",
            "Requirement already satisfied: pandas>=1.4 in /usr/local/lib/python3.10/dist-packages (from xarray>=2023.1.0->nvidia-modulus) (2.0.3)\n",
            "Requirement already satisfied: asciitree in /usr/local/lib/python3.10/dist-packages (from zarr>=2.14.2->nvidia-modulus) (0.3.3)\n",
            "Requirement already satisfied: numcodecs>=0.10.0 in /usr/local/lib/python3.10/dist-packages (from zarr>=2.14.2->nvidia-modulus) (0.12.1)\n",
            "Requirement already satisfied: fasteners in /usr/local/lib/python3.10/dist-packages (from zarr>=2.14.2->nvidia-modulus) (0.19)\n",
            "Requirement already satisfied: botocore<1.34.107,>=1.34.70 in /usr/local/lib/python3.10/dist-packages (from aiobotocore<3.0.0,>=2.5.4->s3fs>=2023.5.0->nvidia-modulus) (1.34.106)\n",
            "Requirement already satisfied: wrapt<2.0.0,>=1.10.10 in /usr/local/lib/python3.10/dist-packages (from aiobotocore<3.0.0,>=2.5.4->s3fs>=2023.5.0->nvidia-modulus) (1.14.1)\n",
            "Requirement already satisfied: aioitertools<1.0.0,>=0.5.1 in /usr/local/lib/python3.10/dist-packages (from aiobotocore<3.0.0,>=2.5.4->s3fs>=2023.5.0->nvidia-modulus) (0.11.0)\n",
            "Requirement already satisfied: aiosignal>=1.1.2 in /usr/local/lib/python3.10/dist-packages (from aiohttp!=4.0.0a0,!=4.0.0a1->s3fs>=2023.5.0->nvidia-modulus) (1.3.1)\n",
            "Requirement already satisfied: attrs>=17.3.0 in /usr/local/lib/python3.10/dist-packages (from aiohttp!=4.0.0a0,!=4.0.0a1->s3fs>=2023.5.0->nvidia-modulus) (23.2.0)\n",
            "Requirement already satisfied: frozenlist>=1.1.1 in /usr/local/lib/python3.10/dist-packages (from aiohttp!=4.0.0a0,!=4.0.0a1->s3fs>=2023.5.0->nvidia-modulus) (1.4.1)\n",
            "Requirement already satisfied: multidict<7.0,>=4.5 in /usr/local/lib/python3.10/dist-packages (from aiohttp!=4.0.0a0,!=4.0.0a1->s3fs>=2023.5.0->nvidia-modulus) (6.0.5)\n",
            "Requirement already satisfied: yarl<2.0,>=1.0 in /usr/local/lib/python3.10/dist-packages (from aiohttp!=4.0.0a0,!=4.0.0a1->s3fs>=2023.5.0->nvidia-modulus) (1.9.4)\n",
            "Requirement already satisfied: async-timeout<5.0,>=4.0 in /usr/local/lib/python3.10/dist-packages (from aiohttp!=4.0.0a0,!=4.0.0a1->s3fs>=2023.5.0->nvidia-modulus) (4.0.3)\n",
            "Requirement already satisfied: wheel<1.0,>=0.23.0 in /usr/local/lib/python3.10/dist-packages (from astunparse>=1.6.0->nvidia-dali-cuda110>=1.16.0->nvidia-modulus) (0.43.0)\n",
            "Requirement already satisfied: cachetools<6.0,>=2.0.0 in /usr/local/lib/python3.10/dist-packages (from google-auth<3,>=1.6.3->tensorboard>=2.8.0->nvidia-modulus-sym) (5.3.3)\n",
            "Requirement already satisfied: pyasn1-modules>=0.2.1 in /usr/local/lib/python3.10/dist-packages (from google-auth<3,>=1.6.3->tensorboard>=2.8.0->nvidia-modulus-sym) (0.4.0)\n",
            "Requirement already satisfied: rsa<5,>=3.1.4 in /usr/local/lib/python3.10/dist-packages (from google-auth<3,>=1.6.3->tensorboard>=2.8.0->nvidia-modulus-sym) (4.9)\n",
            "Requirement already satisfied: requests-oauthlib>=0.7.0 in /usr/local/lib/python3.10/dist-packages (from google-auth-oauthlib<2,>=0.5->tensorboard>=2.8.0->nvidia-modulus-sym) (1.3.1)\n",
            "Requirement already satisfied: python-dateutil>=2.1 in /usr/local/lib/python3.10/dist-packages (from jupyter-client>=5.3.4->notebook==6.4.12->nvidia-modulus-sym) (2.8.2)\n",
            "Requirement already satisfied: platformdirs>=2.5 in /usr/local/lib/python3.10/dist-packages (from jupyter-core>=4.6.1->notebook==6.4.12->nvidia-modulus-sym) (4.2.2)\n",
            "Requirement already satisfied: contourpy>=1.0.1 in /usr/local/lib/python3.10/dist-packages (from matplotlib>=2.0.0->vtk>=9.2.6->nvidia-modulus-sym) (1.2.1)\n",
            "Requirement already satisfied: cycler>=0.10 in /usr/local/lib/python3.10/dist-packages (from matplotlib>=2.0.0->vtk>=9.2.6->nvidia-modulus-sym) (0.12.1)\n",
            "Requirement already satisfied: fonttools>=4.22.0 in /usr/local/lib/python3.10/dist-packages (from matplotlib>=2.0.0->vtk>=9.2.6->nvidia-modulus-sym) (4.51.0)\n",
            "Requirement already satisfied: kiwisolver>=1.0.1 in /usr/local/lib/python3.10/dist-packages (from matplotlib>=2.0.0->vtk>=9.2.6->nvidia-modulus-sym) (1.4.5)\n",
            "Requirement already satisfied: pyparsing>=2.3.1 in /usr/local/lib/python3.10/dist-packages (from matplotlib>=2.0.0->vtk>=9.2.6->nvidia-modulus-sym) (3.1.2)\n",
            "Requirement already satisfied: lxml in /usr/local/lib/python3.10/dist-packages (from nbconvert>=5->notebook==6.4.12->nvidia-modulus-sym) (4.9.4)\n",
            "Requirement already satisfied: beautifulsoup4 in /usr/local/lib/python3.10/dist-packages (from nbconvert>=5->notebook==6.4.12->nvidia-modulus-sym) (4.12.3)\n",
            "Requirement already satisfied: bleach in /usr/local/lib/python3.10/dist-packages (from nbconvert>=5->notebook==6.4.12->nvidia-modulus-sym) (6.1.0)\n",
            "Requirement already satisfied: defusedxml in /usr/local/lib/python3.10/dist-packages (from nbconvert>=5->notebook==6.4.12->nvidia-modulus-sym) (0.7.1)\n",
            "Requirement already satisfied: entrypoints>=0.2.2 in /usr/local/lib/python3.10/dist-packages (from nbconvert>=5->notebook==6.4.12->nvidia-modulus-sym) (0.4)\n",
            "Requirement already satisfied: jupyterlab-pygments in /usr/local/lib/python3.10/dist-packages (from nbconvert>=5->notebook==6.4.12->nvidia-modulus-sym) (0.3.0)\n",
            "Requirement already satisfied: MarkupSafe>=2.0 in /usr/local/lib/python3.10/dist-packages (from nbconvert>=5->notebook==6.4.12->nvidia-modulus-sym) (2.1.5)\n",
            "INFO: pip is looking at multiple versions of nbconvert to determine which version is compatible with other requirements. This could take a while.\n",
            "Collecting nbconvert>=5 (from notebook==6.4.12->nvidia-modulus-sym)\n",
            "  Using cached nbconvert-7.16.4-py3-none-any.whl (257 kB)\n",
            "Requirement already satisfied: nbclient>=0.5.0 in /usr/local/lib/python3.10/dist-packages (from nbconvert>=5->notebook==6.4.12->nvidia-modulus-sym) (0.10.0)\n",
            "Requirement already satisfied: pandocfilters>=1.4.1 in /usr/local/lib/python3.10/dist-packages (from nbconvert>=5->notebook==6.4.12->nvidia-modulus-sym) (1.5.1)\n",
            "Requirement already satisfied: pygments>=2.4.1 in /usr/local/lib/python3.10/dist-packages (from nbconvert>=5->notebook==6.4.12->nvidia-modulus-sym) (2.16.1)\n",
            "Requirement already satisfied: tinycss2 in /usr/local/lib/python3.10/dist-packages (from nbconvert>=5->notebook==6.4.12->nvidia-modulus-sym) (1.3.0)\n",
            "Requirement already satisfied: fastjsonschema>=2.15 in /usr/local/lib/python3.10/dist-packages (from nbformat->notebook==6.4.12->nvidia-modulus-sym) (2.19.1)\n",
            "Requirement already satisfied: jsonschema>=2.6 in /usr/local/lib/python3.10/dist-packages (from nbformat->notebook==6.4.12->nvidia-modulus-sym) (4.19.2)\n",
            "Requirement already satisfied: PyYAML>=5.1.0 in /usr/local/lib/python3.10/dist-packages (from omegaconf<2.4,>=2.2->hydra-core>=1.2.0->nvidia-modulus-sym) (6.0.1)\n",
            "Requirement already satisfied: tzdata>=2022.1 in /usr/local/lib/python3.10/dist-packages (from pandas>=1.4->xarray>=2023.1.0->nvidia-modulus) (2024.1)\n",
            "Requirement already satisfied: charset-normalizer<4,>=2 in /usr/local/lib/python3.10/dist-packages (from requests<3,>=2.21.0->tensorboard>=2.8.0->nvidia-modulus-sym) (3.3.2)\n",
            "Requirement already satisfied: idna<4,>=2.5 in /usr/local/lib/python3.10/dist-packages (from requests<3,>=2.21.0->tensorboard>=2.8.0->nvidia-modulus-sym) (3.7)\n",
            "Requirement already satisfied: urllib3<3,>=1.21.1 in /usr/local/lib/python3.10/dist-packages (from requests<3,>=2.21.0->tensorboard>=2.8.0->nvidia-modulus-sym) (2.0.7)\n",
            "Requirement already satisfied: ptyprocess in /usr/local/lib/python3.10/dist-packages (from terminado>=0.8.3->notebook==6.4.12->nvidia-modulus-sym) (0.7.0)\n",
            "Requirement already satisfied: argon2-cffi-bindings in /usr/local/lib/python3.10/dist-packages (from argon2-cffi->notebook==6.4.12->nvidia-modulus-sym) (21.2.0)\n",
            "Requirement already satisfied: zipp>=0.5 in /usr/local/lib/python3.10/dist-packages (from importlib-metadata->chaospy>=4.3.7->nvidia-modulus-sym) (3.18.2)\n",
            "Requirement already satisfied: ipython>=5.0.0 in /usr/local/lib/python3.10/dist-packages (from ipykernel->notebook==6.4.12->nvidia-modulus-sym) (7.34.0)\n",
            "Requirement already satisfied: webencodings in /usr/local/lib/python3.10/dist-packages (from bleach->nbconvert>=5->notebook==6.4.12->nvidia-modulus-sym) (0.5.1)\n",
            "Requirement already satisfied: jmespath<2.0.0,>=0.7.1 in /usr/local/lib/python3.10/dist-packages (from botocore<1.34.107,>=1.34.70->aiobotocore<3.0.0,>=2.5.4->s3fs>=2023.5.0->nvidia-modulus) (1.0.1)\n",
            "Requirement already satisfied: jedi>=0.16 in /usr/local/lib/python3.10/dist-packages (from ipython>=5.0.0->ipykernel->notebook==6.4.12->nvidia-modulus-sym) (0.19.1)\n",
            "Requirement already satisfied: decorator in /usr/local/lib/python3.10/dist-packages (from ipython>=5.0.0->ipykernel->notebook==6.4.12->nvidia-modulus-sym) (4.4.2)\n",
            "Requirement already satisfied: pickleshare in /usr/local/lib/python3.10/dist-packages (from ipython>=5.0.0->ipykernel->notebook==6.4.12->nvidia-modulus-sym) (0.7.5)\n",
            "Requirement already satisfied: prompt-toolkit!=3.0.0,!=3.0.1,<3.1.0,>=2.0.0 in /usr/local/lib/python3.10/dist-packages (from ipython>=5.0.0->ipykernel->notebook==6.4.12->nvidia-modulus-sym) (3.0.43)\n",
            "Requirement already satisfied: backcall in /usr/local/lib/python3.10/dist-packages (from ipython>=5.0.0->ipykernel->notebook==6.4.12->nvidia-modulus-sym) (0.2.0)\n",
            "Requirement already satisfied: matplotlib-inline in /usr/local/lib/python3.10/dist-packages (from ipython>=5.0.0->ipykernel->notebook==6.4.12->nvidia-modulus-sym) (0.1.7)\n",
            "Requirement already satisfied: pexpect>4.3 in /usr/local/lib/python3.10/dist-packages (from ipython>=5.0.0->ipykernel->notebook==6.4.12->nvidia-modulus-sym) (4.9.0)\n",
            "Requirement already satisfied: jsonschema-specifications>=2023.03.6 in /usr/local/lib/python3.10/dist-packages (from jsonschema>=2.6->nbformat->notebook==6.4.12->nvidia-modulus-sym) (2023.12.1)\n",
            "Requirement already satisfied: referencing>=0.28.4 in /usr/local/lib/python3.10/dist-packages (from jsonschema>=2.6->nbformat->notebook==6.4.12->nvidia-modulus-sym) (0.35.1)\n",
            "Requirement already satisfied: rpds-py>=0.7.1 in /usr/local/lib/python3.10/dist-packages (from jsonschema>=2.6->nbformat->notebook==6.4.12->nvidia-modulus-sym) (0.18.1)\n",
            "Requirement already satisfied: pyasn1<0.7.0,>=0.4.6 in /usr/local/lib/python3.10/dist-packages (from pyasn1-modules>=0.2.1->google-auth<3,>=1.6.3->tensorboard>=2.8.0->nvidia-modulus-sym) (0.6.0)\n",
            "Requirement already satisfied: oauthlib>=3.0.0 in /usr/local/lib/python3.10/dist-packages (from requests-oauthlib>=0.7.0->google-auth-oauthlib<2,>=0.5->tensorboard>=2.8.0->nvidia-modulus-sym) (3.2.2)\n",
            "Requirement already satisfied: cffi>=1.0.1 in /usr/local/lib/python3.10/dist-packages (from argon2-cffi-bindings->argon2-cffi->notebook==6.4.12->nvidia-modulus-sym) (1.16.0)\n",
            "Requirement already satisfied: soupsieve>1.2 in /usr/local/lib/python3.10/dist-packages (from beautifulsoup4->nbconvert>=5->notebook==6.4.12->nvidia-modulus-sym) (2.5)\n",
            "Requirement already satisfied: pycparser in /usr/local/lib/python3.10/dist-packages (from cffi>=1.0.1->argon2-cffi-bindings->argon2-cffi->notebook==6.4.12->nvidia-modulus-sym) (2.22)\n",
            "Requirement already satisfied: parso<0.9.0,>=0.8.3 in /usr/local/lib/python3.10/dist-packages (from jedi>=0.16->ipython>=5.0.0->ipykernel->notebook==6.4.12->nvidia-modulus-sym) (0.8.4)\n",
            "Requirement already satisfied: wcwidth in /usr/local/lib/python3.10/dist-packages (from prompt-toolkit!=3.0.0,!=3.0.1,<3.1.0,>=2.0.0->ipython>=5.0.0->ipykernel->notebook==6.4.12->nvidia-modulus-sym) (0.2.13)\n",
            "Installing collected packages: s3fs, pytorch-ranger, torch-optimizer, timm, nvidia-modulus, nbconvert, notebook, nvidia-modulus-sym\n",
            "  Attempting uninstall: nbconvert\n",
            "    Found existing installation: nbconvert 6.5.4\n",
            "    Uninstalling nbconvert-6.5.4:\n",
            "      Successfully uninstalled nbconvert-6.5.4\n",
            "  Attempting uninstall: notebook\n",
            "    Found existing installation: notebook 6.5.5\n",
            "    Uninstalling notebook-6.5.5:\n",
            "      Successfully uninstalled notebook-6.5.5\n",
            "\u001b[31mERROR: pip's dependency resolver does not currently take into account all the packages that are installed. This behaviour is the source of the following dependency conflicts.\n",
            "google-colab 1.0.0 requires notebook==6.5.5, but you have notebook 6.4.12 which is incompatible.\u001b[0m\u001b[31m\n",
            "\u001b[0mSuccessfully installed nbconvert-7.16.4 notebook-6.4.12 nvidia-modulus-0.6.0 nvidia-modulus-sym-1.5.0 pytorch-ranger-0.1.1 s3fs-2024.5.0 timm-0.5.4 torch-optimizer-0.3.0\n",
            "fatal: destination path 'glamacles_test' already exists and is not an empty directory.\n"
          ]
        }
      ]
    },
    {
      "cell_type": "code",
      "execution_count": null,
      "metadata": {
        "id": "o7wd9o-HLisY",
        "collapsed": true
      },
      "outputs": [],
      "source": [
        "import os\n",
        "arch = os.getenv(\"ARGS\", \"real\")\n",
        "\n",
        "try:\n",
        "    import google.colab  # noqa: F401\n",
        "except ImportError:\n",
        "    import firedrake as fd\n",
        "else:\n",
        "    try:\n",
        "        import firedrake as fd\n",
        "    except ImportError:\n",
        "        if arch != \"complex\":\n",
        "            !wget \"https://fem-on-colab.github.io/releases/firedrake-install-real.sh\" -O \"/tmp/firedrake-install.sh\" && bash \"/tmp/firedrake-install.sh\"\n",
        "        else:\n",
        "            !wget \"https://fem-on-colab.github.io/releases/firedrake-install-complex.sh\" -O \"/tmp/firedrake-install.sh\" && bash \"/tmp/firedrake-install.sh\"\n",
        "        import firedrake as fd\n",
        "\n",
        "from google.colab import drive\n",
        "drive.mount('/content/drive')"
      ]
    },
    {
      "cell_type": "code",
      "source": [
        "from model import SpecFO\n",
        "import numpy as np\n",
        "import matplotlib.pyplot as plt\n",
        "data = np.load('/content/drive/MyDrive/glamacles/data.npy')\n",
        "model = SpecFO()"
      ],
      "metadata": {
        "colab": {
          "base_uri": "https://localhost:8080/"
        },
        "id": "pKynimjYRK2b",
        "outputId": "935656c4-881c-40bb-d229-d8f820242b86"
      },
      "execution_count": null,
      "outputs": [
        {
          "output_type": "stream",
          "name": "stderr",
          "text": [
            "/usr/local/lib/python3.10/dist-packages/firedrake/interpolation.py:385: FutureWarning: The use of `interpolate` to perform the numerical interpolation is deprecated.\n",
            "This feature will be removed very shortly.\n",
            "\n",
            "Instead, import `interpolate` from the `firedrake.__future__` module to update\n",
            "the interpolation's behaviour to return the symbolic `ufl.Interpolate` object associated\n",
            "with this interpolation.\n",
            "\n",
            "You can then assemble the resulting object to get the interpolated quantity\n",
            "of interest. For example,\n",
            "\n",
            "```\n",
            "from firedrake.__future__ import interpolate\n",
            "...\n",
            "\n",
            "assemble(interpolate(expr, V))\n",
            "```\n",
            "\n",
            "Alternatively, you can also perform other symbolic operations on the interpolation operator, such as taking\n",
            "the derivative, and then assemble the resulting form.\n",
            "\n",
            "  warnings.warn(\"\"\"The use of `interpolate` to perform the numerical interpolation is deprecated.\n"
          ]
        }
      ]
    },
    {
      "cell_type": "code",
      "source": [
        "import torch\n",
        "from modulus.models.fno import FNO\n",
        "from torch.utils.data import TensorDataset, DataLoader\n",
        "from torch.nn import MSELoss\n",
        "\n",
        "fno = FNO(\n",
        "    in_channels=2,\n",
        "    out_channels=4,\n",
        "    decoder_layers=1,\n",
        "    decoder_layer_size=32,\n",
        "    dimension=2,\n",
        "    latent_channels=32,\n",
        "    num_fno_layers=4,\n",
        "    num_fno_modes=16,\n",
        "    padding=9,\n",
        ").cuda()\n",
        "\n",
        "optimizer = torch.optim.Adam(fno.parameters(), lr=1e-4)"
      ],
      "metadata": {
        "id": "96y-eTGwhFU_"
      },
      "execution_count": null,
      "outputs": []
    },
    {
      "cell_type": "code",
      "source": [
        "data = torch.tensor(data, dtype=torch.float32)\n",
        "data.shape"
      ],
      "metadata": {
        "colab": {
          "base_uri": "https://localhost:8080/"
        },
        "id": "SO0NkmR4wVwh",
        "outputId": "214ba179-c79f-4114-a1dc-c14d2479d513"
      },
      "execution_count": null,
      "outputs": [
        {
          "output_type": "stream",
          "name": "stderr",
          "text": [
            "<ipython-input-110-67482221ac71>:1: UserWarning: To copy construct from a tensor, it is recommended to use sourceTensor.clone().detach() or sourceTensor.clone().detach().requires_grad_(True), rather than torch.tensor(sourceTensor).\n",
            "  data = torch.tensor(data, dtype=torch.float32)\n"
          ]
        },
        {
          "output_type": "execute_result",
          "data": {
            "text/plain": [
              "torch.Size([2500, 6, 101, 101])"
            ]
          },
          "metadata": {},
          "execution_count": 110
        }
      ]
    },
    {
      "cell_type": "code",
      "source": [
        "# Model inputs B and H\n",
        "X = data[:,[0,1],:,:]\n",
        "# MOdel outputs (velocity)\n",
        "Y = data[:,2:,:,:]\n",
        "\n",
        "train_dataset = TensorDataset(X[0:2000], Y[0:2000])\n",
        "validation_dataset = TensorDataset(X[2000:], Y[2000:])\n",
        "#train_data = dataset[0:2000]\n",
        "#validation_data = dataset[2000:]\n",
        "\n",
        "train_loader = DataLoader(train_dataset, batch_size=1, shuffle=True)\n",
        "validation_loader = DataLoader(validation_dataset, batch_size=1, shuffle=True)\n",
        "\n",
        "# Number of epochs\n",
        "epochs = 100\n",
        "\n",
        "# Loss function\n",
        "mse = MSELoss()"
      ],
      "metadata": {
        "id": "UfJ6Rc8IwWGu"
      },
      "execution_count": null,
      "outputs": []
    },
    {
      "cell_type": "code",
      "source": [
        "# Training loop\n",
        "\n",
        "for epoch in range(epochs):\n",
        "\n",
        "  fno.train()\n",
        "  loss_avg = torch.tensor(0.)\n",
        "  num = 0\n",
        "  for i,(x,y) in enumerate(train_loader):\n",
        "    optimizer.zero_grad()\n",
        "    x = x.cuda()\n",
        "    y = y.cuda()\n",
        "    y_fno = fno(x)\n",
        "\n",
        "    loss = mse(y_fno, y)\n",
        "    loss_avg += loss.cpu()\n",
        "    loss.backward()\n",
        "    num += 1\n",
        "\n",
        "  loss_avg /= num\n",
        "  print('loss', loss_avg.item())\n"
      ],
      "metadata": {
        "colab": {
          "base_uri": "https://localhost:8080/"
        },
        "id": "KN7mBgdGw5cb",
        "outputId": "71d6a642-d29a-4097-cc22-f7db442c528a"
      },
      "execution_count": null,
      "outputs": [
        {
          "output_type": "stream",
          "name": "stdout",
          "text": [
            "loss 7418972.0\n",
            "loss 7418972.5\n",
            "loss 7418973.5\n"
          ]
        }
      ]
    },
    {
      "cell_type": "code",
      "source": [],
      "metadata": {
        "id": "NUAz48276xHL"
      },
      "execution_count": null,
      "outputs": []
    }
  ]
}